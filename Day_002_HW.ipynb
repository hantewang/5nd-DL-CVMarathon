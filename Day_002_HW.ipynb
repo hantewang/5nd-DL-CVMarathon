{
 "cells": [
  {
   "cell_type": "markdown",
   "metadata": {},
   "source": [
    "## [作業目標]\n",
    "了解機器學習適合應用的領域與範疇。"
   ]
  },
  {
   "cell_type": "markdown",
   "metadata": {},
   "source": [
    "## [作業重點]\n",
    "透過瞭解機器學習的運作方式，找出非常適用機器學習應用的領域及其原因"
   ]
  },
  {
   "cell_type": "markdown",
   "metadata": {},
   "source": [
    "## 作業\n",
    "請找出一個你認為機器學習可以發光發熱的領域並闡述原因? "
   ]
  },
  {
   "cell_type": "code",
   "execution_count": null,
   "metadata": {},
   "outputs": [],
   "source": [
    "\"\"\" 機器學習的優點是沒有人為感情的干擾和成見,所以可以用來解決一些複雜難以分析的資料並試著找出規律.\n",
    "目前在判定失能以及老年失語症是採用量表, 一般是由家屬代填但觀察過量表可以發現其實相當主觀 比方是否最近望東西\n",
    ". 而腦部退化屬於不可逆的現象因此分析是否處於早期失能是相當重要的. 如果可以結合腦部科學數據(例如可以用最近很紅\n",
    "的implant收集)以及使用語言學腦神經科學家認為重要的語言信號或值得參考的科學標記.再由監督或非監督學習得出結論\n",
    "應該能拯救相當多的人跟家庭.使台灣朝向一個更健康的高齡社會發展\"\"\""
   ]
  }
 ],
 "metadata": {
  "kernelspec": {
   "display_name": "Python 3",
   "language": "python",
   "name": "python3"
  },
  "language_info": {
   "codemirror_mode": {
    "name": "ipython",
    "version": 3
   },
   "file_extension": ".py",
   "mimetype": "text/x-python",
   "name": "python",
   "nbconvert_exporter": "python",
   "pygments_lexer": "ipython3",
   "version": "3.7.6"
  }
 },
 "nbformat": 4,
 "nbformat_minor": 2
}
